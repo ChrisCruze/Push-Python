{
 "cells": [
  {
   "cell_type": "code",
   "execution_count": 2,
   "metadata": {},
   "outputs": [],
   "source": [
    "from pymongo import MongoClient\n",
    "import pprint\n",
    "MONGO_ATLAS_URI = open('.env','r').read()\n",
    "client = MongoClient(MONGO_ATLAS_URI)\n",
    "db = client['push']\n",
    "goals = db['goals']\n",
    "users = db['users']\n"
   ]
  },
  {
   "cell_type": "code",
   "execution_count": 2,
   "metadata": {},
   "outputs": [
    {
     "data": {
      "text/plain": [
       "<Response [200]>"
      ]
     },
     "execution_count": 2,
     "metadata": {},
     "output_type": "execute_result"
    }
   ],
   "source": [
    "import requests\n",
    "payload = \"\"\"{\n",
    "    \"to\":\"ExponentPushToken[6smFQ5K5I3kM6QNiJTZGAb]\",\n",
    "    \"title\":\"title\",\n",
    "    \"body\":\"abc\",\n",
    "    \"sound\": \"default\",\n",
    "    \"_displayInForeground\": \"true\"\n",
    "}\"\"\"\n",
    "\n",
    "headers = {\n",
    "  'Content-Type': 'application/json'\n",
    "}\n",
    "requests.post('https://exp.host/--/api/v2/push/send',data=payload,headers=headers)"
   ]
  },
  {
   "cell_type": "code",
   "execution_count": 14,
   "metadata": {},
   "outputs": [],
   "source": [
    "users_with_expo_push_tokens = [user for user in users.find() if 'expoPushToken' in user.keys()]\n",
    "users_with_expo_push_tokens_ids = [user['_id'] for user in users_with_expo_push_tokens]\n",
    "goals_of_users_with_token = [goal for goal in goals.find() if goal['creatorID'] in users_with_expo_push_tokens_ids]\n",
    "\n"
   ]
  },
  {
   "cell_type": "code",
   "execution_count": null,
   "metadata": {},
   "outputs": [],
   "source": []
  },
  {
   "cell_type": "code",
   "execution_count": null,
   "metadata": {},
   "outputs": [],
   "source": []
  },
  {
   "cell_type": "code",
   "execution_count": null,
   "metadata": {},
   "outputs": [],
   "source": []
  }
 ],
 "metadata": {
  "kernelspec": {
   "display_name": "Python 3",
   "language": "python",
   "name": "python3"
  },
  "language_info": {
   "codemirror_mode": {
    "name": "ipython",
    "version": 3
   },
   "file_extension": ".py",
   "mimetype": "text/x-python",
   "name": "python",
   "nbconvert_exporter": "python",
   "pygments_lexer": "ipython3",
   "version": "3.7.4"
  }
 },
 "nbformat": 4,
 "nbformat_minor": 4
}
